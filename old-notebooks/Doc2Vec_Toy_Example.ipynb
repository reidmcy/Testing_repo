{
 "cells": [
  {
   "cell_type": "code",
   "execution_count": 1,
   "metadata": {
    "collapsed": true
   },
   "outputs": [],
   "source": [
    "import sys\n",
    "import gensim\n",
    "import random\n",
    "from gensim.models.doc2vec import Doc2Vec, FAST_VERSION, TaggedDocument\n",
    "import numpy as np\n",
    "import re\n",
    "from scipy.spatial.distance import cdist\n",
    "\n",
    "\n",
    "'''\n",
    "    Doc2Vec documentation: https://radimrehurek.com/gensim/models/doc2vec.html\n",
    "    Doc2Vec blog post about installing a fast C compiler to make this soooooo much faster: http://rare-technologies.com/word2vec-in-python-part-two-optimizing/\n",
    "        - This was a headache for me a bit, so lemme know if theres problems.\n",
    "        - With these toy examples the speed is not a factor however, so it probably can be disregarded.\n",
    "'''\n",
    "patt = r'[,\\.-_]+$'\n",
    "\n",
    "#This is to make sure you have the proper underlying Cython stuff worked up\n",
    "assert gensim.models.doc2vec.FAST_VERSION > -1, \"this will be painfully slow otherwise\""
   ]
  },
  {
   "cell_type": "code",
   "execution_count": 2,
   "metadata": {
    "collapsed": true
   },
   "outputs": [],
   "source": [
    "\n",
    "input_docs = [\"Hey there, this is a test of the national broadcast system.\",\n",
    "         \"Dogs are very cute animals.\",\n",
    "         \"Didn't you get a super cute pet the other day?\",\n",
    "         \"This is a nightmare, the world is on fire.\",\n",
    "         \"How many times do I have to tell you?\"]\n",
    "\n",
    "test_docs = [\"My bird makes for a great pet.\"]\n"
   ]
  },
  {
   "cell_type": "code",
   "execution_count": 3,
   "metadata": {
    "collapsed": true
   },
   "outputs": [],
   "source": [
    "labeled_docs = []\n",
    "ctr = 0\n",
    "for doc in input_docs:\n",
    "    labeled_docs.append(TaggedDocument(words=[re.sub(patt,'', x) for x in doc.lower().split()], tags=['%s'%(str(ctr))])) #Add these TaggedDocuments to a list, which are the datastructure the model takes\n",
    "    ctr += 1"
   ]
  },
  {
   "cell_type": "code",
   "execution_count": 5,
   "metadata": {
    "collapsed": false
   },
   "outputs": [],
   "source": [
    "model = Doc2Vec(labeled_docs, size=100, window=10, min_count=1, workers=4) #Plenty more parameters to mess with. \n",
    "\n",
    "for epoch in range(10):\n",
    "    random.shuffle(labeled_docs)\n",
    "    model.train(labeled_docs, total_examples=len(labeled_docs))"
   ]
  },
  {
   "cell_type": "code",
   "execution_count": 7,
   "metadata": {
    "collapsed": false
   },
   "outputs": [
    {
     "name": "stdout",
     "output_type": "stream",
     "text": [
      "0.449660611432\n",
      "-0.823191990483\n"
     ]
    }
   ],
   "source": [
    "#See how the word similarity stuff works\n",
    "print(model.similarity('cute', 'pet'))\n",
    "print(model.similarity('cute', 'fire'))"
   ]
  },
  {
   "cell_type": "code",
   "execution_count": 11,
   "metadata": {
    "collapsed": false
   },
   "outputs": [
    {
     "name": "stdout",
     "output_type": "stream",
     "text": [
      "query: My bird makes for a great pet.\n",
      "#0) Hey there, this is a test of the national broadcast system.\n",
      "\tscore:0.192573\n",
      "#1) Didn't you get a super cute pet the other day?\n",
      "\tscore:0.524513\n",
      "#2) How many times do I have to tell you?\n",
      "\tscore:0.588661\n"
     ]
    }
   ],
   "source": [
    "#See which sentences in the input docs are closest to the query\n",
    "docs_mat = np.zeros((len(model.docvecs), 100))\n",
    "\n",
    "for ix_ in range(len(model.docvecs)):\n",
    "    vec = model.docvecs[ix_]\n",
    "    docs_mat[ix_, :] = vec\n",
    "    \n",
    "for doc in test_docs:\n",
    "    vec = model.infer_vector([re.sub(patt, '', x) for x in doc.lower().split()])\n",
    "    res = cdist(np.reshape(vec, (1,vec.size)), model.docvecs, 'cosine') #distance between doc & every doc in the input_docs\n",
    "    sorted_ix = np.argsort(res[0])\n",
    "\n",
    "    sorted_res = res[0, sorted_ix]\n",
    "    print(\"query: %s\" % doc)\n",
    "    for i in range(3):\n",
    "        print(\"#%d) %s\" %(i, input_docs[sorted_ix[i]]))\n",
    "        print(\"\\tscore:%f\" %(sorted_res[i]))"
   ]
  },
  {
   "cell_type": "code",
   "execution_count": null,
   "metadata": {
    "collapsed": true
   },
   "outputs": [],
   "source": []
  }
 ],
 "metadata": {
  "kernelspec": {
   "display_name": "Python 3",
   "language": "python",
   "name": "python3"
  },
  "language_info": {
   "codemirror_mode": {
    "name": "ipython",
    "version": 3
   },
   "file_extension": ".py",
   "mimetype": "text/x-python",
   "name": "python",
   "nbconvert_exporter": "python",
   "pygments_lexer": "ipython3",
   "version": "3.5.1"
  }
 },
 "nbformat": 4,
 "nbformat_minor": 0
}
